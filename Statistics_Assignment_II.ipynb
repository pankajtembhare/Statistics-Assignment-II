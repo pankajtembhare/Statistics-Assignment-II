{
 "cells": [
  {
   "cell_type": "markdown",
   "id": "da8d97c2",
   "metadata": {},
   "source": [
    "# Q1 : What are the three measures of central tendency?"
   ]
  },
  {
   "cell_type": "markdown",
   "id": "58a4282c",
   "metadata": {},
   "source": [
    "# Ans :-Mean, Meadian and Mode are the three measures of central tendency."
   ]
  },
  {
   "cell_type": "markdown",
   "id": "1d5b290e",
   "metadata": {},
   "source": [
    "# ."
   ]
  },
  {
   "cell_type": "markdown",
   "id": "28fc57db",
   "metadata": {},
   "source": [
    "# Q2 : What is the difference between he mean, meadian and mode? How are they used to measure the central tendency of a dataset?"
   ]
  },
  {
   "cell_type": "markdown",
   "id": "3ddc496e",
   "metadata": {},
   "source": [
    "# Ans :- (1) Mean represent centre of gravity of dataset , Meadian represents middle of dateset(half below and half above) and Mode represents most common value(most occuring element).\n",
    "# (2) Mean most usedful when data is normally distributed, Meadian most useful when dataset is skewed or has few extreme values in one direction and Mode not popular with bio-scientists.\n"
   ]
  },
  {
   "cell_type": "markdown",
   "id": "e1a00691",
   "metadata": {},
   "source": [
    "# How mean will be used?"
   ]
  },
  {
   "cell_type": "code",
   "execution_count": 5,
   "id": "5d241670",
   "metadata": {},
   "outputs": [
    {
     "data": {
      "text/plain": [
       "3.0"
      ]
     },
     "execution_count": 5,
     "metadata": {},
     "output_type": "execute_result"
    }
   ],
   "source": [
    "import numpy as np\n",
    "\n",
    "l=[1,2,3,4,5]\n",
    "np.mean(l)"
   ]
  },
  {
   "cell_type": "markdown",
   "id": "bfa06f00",
   "metadata": {},
   "source": [
    "# How meadian will be used?"
   ]
  },
  {
   "cell_type": "code",
   "execution_count": 7,
   "id": "dba89195",
   "metadata": {},
   "outputs": [
    {
     "data": {
      "text/plain": [
       "3.5"
      ]
     },
     "execution_count": 7,
     "metadata": {},
     "output_type": "execute_result"
    }
   ],
   "source": [
    "import numpy as np\n",
    "\n",
    "l=[1,2,3,4,20,30]\n",
    "np.median(l)"
   ]
  },
  {
   "cell_type": "markdown",
   "id": "8ffca393",
   "metadata": {},
   "source": [
    "# How Mode will be used?"
   ]
  },
  {
   "cell_type": "code",
   "execution_count": 10,
   "id": "90402c4c",
   "metadata": {},
   "outputs": [
    {
     "data": {
      "text/plain": [
       "23"
      ]
     },
     "execution_count": 10,
     "metadata": {},
     "output_type": "execute_result"
    }
   ],
   "source": [
    "import statistics as sc\n",
    "\n",
    "l=[12,23,12,21,23,34,43,23]\n",
    "sc.mode(l)"
   ]
  },
  {
   "cell_type": "markdown",
   "id": "868d881e",
   "metadata": {},
   "source": [
    "# ."
   ]
  },
  {
   "cell_type": "markdown",
   "id": "9dbc6285",
   "metadata": {},
   "source": [
    "# Q3 : Measure the three measures of central tendency for the given heights data: [178,177,176,177,178.2,178,175,179,180,175,178.9,176.2,177,172.5,178,176.5]"
   ]
  },
  {
   "cell_type": "markdown",
   "id": "2f386212",
   "metadata": {},
   "source": [
    "# Mode"
   ]
  },
  {
   "cell_type": "code",
   "execution_count": 1,
   "id": "7bd7c9d1",
   "metadata": {},
   "outputs": [
    {
     "data": {
      "text/plain": [
       "177.01875"
      ]
     },
     "execution_count": 1,
     "metadata": {},
     "output_type": "execute_result"
    }
   ],
   "source": [
    "import numpy as np\n",
    "\n",
    "x=[178,177,176,177,178.2,178,175,179,180,175,178.9,176.2,177,172.5,178,176.5]\n",
    "\n",
    "np.mean(x)"
   ]
  },
  {
   "cell_type": "markdown",
   "id": "2059940a",
   "metadata": {},
   "source": [
    "# Median"
   ]
  },
  {
   "cell_type": "code",
   "execution_count": 2,
   "id": "c975684a",
   "metadata": {},
   "outputs": [
    {
     "data": {
      "text/plain": [
       "177.0"
      ]
     },
     "execution_count": 2,
     "metadata": {},
     "output_type": "execute_result"
    }
   ],
   "source": [
    "import numpy as np\n",
    "\n",
    "x=[178,177,176,177,178.2,178,175,179,180,175,178.9,176.2,177,172.5,178,176.5]\n",
    "\n",
    "np.median(x)"
   ]
  },
  {
   "cell_type": "markdown",
   "id": "6f160cbb",
   "metadata": {},
   "source": [
    "# Mode"
   ]
  },
  {
   "cell_type": "code",
   "execution_count": 3,
   "id": "b59eb174",
   "metadata": {},
   "outputs": [
    {
     "data": {
      "text/plain": [
       "178"
      ]
     },
     "execution_count": 3,
     "metadata": {},
     "output_type": "execute_result"
    }
   ],
   "source": [
    "import statistics as st\n",
    "\n",
    "x=[178,177,176,177,178.2,178,175,179,180,175,178.9,176.2,177,172.5,178,176.5]\n",
    "\n",
    "st.mode(x)"
   ]
  },
  {
   "cell_type": "markdown",
   "id": "a08e2ee7",
   "metadata": {},
   "source": [
    "# ."
   ]
  },
  {
   "cell_type": "markdown",
   "id": "92a61037",
   "metadata": {},
   "source": [
    "# Q4 : Find the standard deviation for the given data :[ 178,177,176,177,178.2,178,175,179,180,175,178.9,176.2,177,172.5,178,176.5]"
   ]
  },
  {
   "cell_type": "code",
   "execution_count": 4,
   "id": "96fafe79",
   "metadata": {},
   "outputs": [
    {
     "name": "stdout",
     "output_type": "stream",
     "text": [
      "standard deviation using statistics library\n"
     ]
    },
    {
     "data": {
      "text/plain": [
       "1.8472389305844188"
      ]
     },
     "execution_count": 4,
     "metadata": {},
     "output_type": "execute_result"
    }
   ],
   "source": [
    "import statistics as st\n",
    "\n",
    "print('standard deviation using statistics library')\n",
    "\n",
    "x=[178,177,176,177,178.2,178,175,179,180,175,178.9,176.2,177,172.5,178,176.5]\n",
    "\n",
    "st.stdev(x)"
   ]
  },
  {
   "cell_type": "code",
   "execution_count": 15,
   "id": "e31124f5",
   "metadata": {},
   "outputs": [
    {
     "name": "stdout",
     "output_type": "stream",
     "text": [
      "standard deviation using numpy\n"
     ]
    },
    {
     "data": {
      "text/plain": [
       "1.847238930584419"
      ]
     },
     "execution_count": 15,
     "metadata": {},
     "output_type": "execute_result"
    }
   ],
   "source": [
    "import numpy as np\n",
    "\n",
    "print('standard deviation using numpy')\n",
    "\n",
    "x=[178,177,176,177,178.2,178,175,179,180,175,178.9,176.2,177,172.5,178,176.5]\n",
    "\n",
    "arr=np.array(x)\n",
    "\n",
    "np.std(x,ddof=1)"
   ]
  },
  {
   "cell_type": "code",
   "execution_count": 16,
   "id": "44ade9bf",
   "metadata": {},
   "outputs": [
    {
     "name": "stdout",
     "output_type": "stream",
     "text": [
      "standard deviation using pandas\n"
     ]
    },
    {
     "data": {
      "text/plain": [
       "0    1.847239\n",
       "dtype: float64"
      ]
     },
     "execution_count": 16,
     "metadata": {},
     "output_type": "execute_result"
    }
   ],
   "source": [
    "import pandas as pd\n",
    "\n",
    "print('standard deviation using pandas')\n",
    "\n",
    "x=[178,177,176,177,178.2,178,175,179,180,175,178.9,176.2,177,172.5,178,176.5]\n",
    "\n",
    "df=pd.DataFrame(x)\n",
    "\n",
    "df.std()"
   ]
  },
  {
   "cell_type": "markdown",
   "id": "c929a840",
   "metadata": {},
   "source": [
    "# ."
   ]
  },
  {
   "cell_type": "markdown",
   "id": "332146dd",
   "metadata": {},
   "source": [
    "# Q5 : How are measures of dispersion such as range, variance and standard deviation used to describe the spread of a dataset? provide an example."
   ]
  },
  {
   "cell_type": "markdown",
   "id": "73e9d4da",
   "metadata": {},
   "source": [
    "# Ans : Range :- The range in statistics for a given data set is the difference between the highest and lowest values.The range in statistics represents the spread of observations.\n",
    "# eg. {2,5,8,10,3}  Then the range will be 10-2=8 "
   ]
  },
  {
   "cell_type": "markdown",
   "id": "8de54c57",
   "metadata": {},
   "source": [
    "# Variance :- A measurement of how far each number in a data set is from the mean(average), and thus from every other numbe in the set."
   ]
  },
  {
   "cell_type": "code",
   "execution_count": 6,
   "id": "e53942c3",
   "metadata": {},
   "outputs": [
    {
     "data": {
      "text/plain": [
       "9.04"
      ]
     },
     "execution_count": 6,
     "metadata": {},
     "output_type": "execute_result"
    }
   ],
   "source": [
    "# eg.\n",
    "import numpy as np\n",
    "\n",
    "x=[2,5,8,10,3]\n",
    "\n",
    "arr=np.array(x)\n",
    "\n",
    "np.var(arr)"
   ]
  },
  {
   "cell_type": "markdown",
   "id": "acf6b589",
   "metadata": {},
   "source": [
    "# Standard Deviation :- In statistics, the standard deviation is a measure of the amount of variation or dispersion of a set of values.A low standard deviation indicates that the values tend to be close to the mean of the set, while a high standard deviation indicates that the values are spread out over a wider range."
   ]
  },
  {
   "cell_type": "code",
   "execution_count": 7,
   "id": "132c7d3e",
   "metadata": {},
   "outputs": [
    {
     "data": {
      "text/plain": [
       "3.361547262794322"
      ]
     },
     "execution_count": 7,
     "metadata": {},
     "output_type": "execute_result"
    }
   ],
   "source": [
    "import numpy as np\n",
    "\n",
    "x=[2,5,10,8,3]\n",
    "\n",
    "arr=np.array(x)\n",
    "\n",
    "np.std(arr,ddof=1)"
   ]
  },
  {
   "cell_type": "markdown",
   "id": "ae294c20",
   "metadata": {},
   "source": [
    "# ."
   ]
  },
  {
   "cell_type": "markdown",
   "id": "6d6ec829",
   "metadata": {},
   "source": [
    "# Q6 : What is venn diagram?"
   ]
  },
  {
   "cell_type": "markdown",
   "id": "64d26515",
   "metadata": {},
   "source": [
    "# Ans : A Venn diagram is an illustration that uses circles to show the relationships among things or finite groups of things."
   ]
  },
  {
   "cell_type": "markdown",
   "id": "b56d41d2",
   "metadata": {},
   "source": [
    "# ."
   ]
  },
  {
   "cell_type": "markdown",
   "id": "541668b3",
   "metadata": {},
   "source": [
    "# Q7 :For the given sets A=(2,3,4,5,6,7) & B=(0,2,6,8,10) Find:(i)A n B (ii)A u B"
   ]
  },
  {
   "cell_type": "markdown",
   "id": "6318c05b",
   "metadata": {},
   "source": [
    "# A u B =(0,2,3,4,5,6,7,8,10)\n",
    "# A n B =(2,6)"
   ]
  },
  {
   "cell_type": "markdown",
   "id": "3d6682d8",
   "metadata": {},
   "source": [
    "# ."
   ]
  },
  {
   "cell_type": "markdown",
   "id": "4ff8991c",
   "metadata": {},
   "source": [
    "# Q8 : What do you understand about skewness in data?"
   ]
  },
  {
   "cell_type": "markdown",
   "id": "1ae55946",
   "metadata": {},
   "source": [
    "# Ans :- Skewness is a measurement of the distortion of symmetrical distribution or asymetrical in a data set. Skewnessis demonstrated on a bell curve when data points are not distributed symmetrically to the left right sides of the meadian on a bell curve."
   ]
  },
  {
   "cell_type": "markdown",
   "id": "83ad7150",
   "metadata": {},
   "source": [
    "# ."
   ]
  },
  {
   "cell_type": "markdown",
   "id": "03cce74f",
   "metadata": {},
   "source": [
    "# Q9 : If a data is right skewed then what will be position of median with respect to mean?"
   ]
  },
  {
   "cell_type": "markdown",
   "id": "7a374cb5",
   "metadata": {},
   "source": [
    "# Ans :- If the distribution of data is skewed to the right, the mode is often less than the median, which is less than the mean."
   ]
  },
  {
   "cell_type": "markdown",
   "id": "d4fc57bc",
   "metadata": {},
   "source": [
    "# ."
   ]
  },
  {
   "cell_type": "markdown",
   "id": "feec9a49",
   "metadata": {},
   "source": [
    "# Q10 : Explain the difference between covariance and correlation. How are these measures used in statistical analysis?"
   ]
  },
  {
   "cell_type": "markdown",
   "id": "7e0b9123",
   "metadata": {},
   "source": [
    "# Ans :- Covariance and correlation are two terms that are opposed and are both used in statistics, covariance show you how the two variables differ, whereas correlation show's you how the two variables are releted."
   ]
  },
  {
   "cell_type": "code",
   "execution_count": null,
   "id": "e30652e1",
   "metadata": {},
   "outputs": [],
   "source": []
  },
  {
   "cell_type": "markdown",
   "id": "cc097170",
   "metadata": {},
   "source": [
    "# Q11 : What is the formula for calculating the sample mean? Provide an example calculation for a dataset. "
   ]
  },
  {
   "cell_type": "markdown",
   "id": "1e8c26ee",
   "metadata": {},
   "source": [
    "# Ans :- To calculate the sample mean apply following formula:\n",
    "# sum of total elements/numbers of element."
   ]
  },
  {
   "cell_type": "code",
   "execution_count": 2,
   "id": "cc1bc26f",
   "metadata": {},
   "outputs": [
    {
     "data": {
      "text/plain": [
       "3.0"
      ]
     },
     "execution_count": 2,
     "metadata": {},
     "output_type": "execute_result"
    }
   ],
   "source": [
    "import numpy as np\n",
    "\n",
    "x=[1,2,3,4,5]\n",
    "\n",
    "arr=np.array(x)\n",
    "\n",
    "np.mean(arr)"
   ]
  },
  {
   "cell_type": "markdown",
   "id": "41216952",
   "metadata": {},
   "source": [
    "# ."
   ]
  },
  {
   "cell_type": "markdown",
   "id": "a80904bd",
   "metadata": {},
   "source": [
    "# Q12 : For a normal distribution data what is the relationship between its measure of central tendency?"
   ]
  },
  {
   "cell_type": "markdown",
   "id": "bd54839b",
   "metadata": {},
   "source": [
    "# Ans :- For normal distributed data, all three measures of central tendency will give you the same answer so they can all be used."
   ]
  },
  {
   "cell_type": "markdown",
   "id": "b039b5ed",
   "metadata": {},
   "source": [
    "# ."
   ]
  },
  {
   "cell_type": "markdown",
   "id": "65a800ee",
   "metadata": {},
   "source": [
    "# Q13 : How is covariance differ from correlation?"
   ]
  },
  {
   "cell_type": "markdown",
   "id": "28322e58",
   "metadata": {},
   "source": [
    "# Ans :- Both covariance and correlation measure the relationship and the dependency between two variables. Covariance indicates the direction of the linear relationship between  variables. Correlation measures both the strength an direction of the linear relationship between two variables."
   ]
  },
  {
   "cell_type": "markdown",
   "id": "e59e4b38",
   "metadata": {},
   "source": [
    "# ."
   ]
  },
  {
   "cell_type": "markdown",
   "id": "87b8ab3d",
   "metadata": {},
   "source": [
    "# Q14 : How do outliers affect measures of central tendecy and dispersion? Provide an example."
   ]
  },
  {
   "cell_type": "markdown",
   "id": "f30423b8",
   "metadata": {},
   "source": [
    "# Ans :- Measure of cental tendency are mean, median and mode. Outliers affect the mean value of the data but have little effect on the mean or mode of a given set of data."
   ]
  },
  {
   "cell_type": "code",
   "execution_count": 5,
   "id": "10b934a1",
   "metadata": {},
   "outputs": [
    {
     "name": "stdout",
     "output_type": "stream",
     "text": [
      "Mean= 15.833333333333334\n",
      "Median= 3.5\n",
      "Mode= 1\n"
     ]
    }
   ],
   "source": [
    "import statistics as st\n",
    "import numpy as np\n",
    "\n",
    "x=[1,2,3,4,5,80]\n",
    "arr=np.array(x)\n",
    "\n",
    "print('Mean=',np.mean(arr))\n",
    "\n",
    "\n",
    "print('Median=',np.median(arr))\n",
    "\n",
    "\n",
    "print('Mode=',st.mode(arr))"
   ]
  }
 ],
 "metadata": {
  "kernelspec": {
   "display_name": "Python 3 (ipykernel)",
   "language": "python",
   "name": "python3"
  },
  "language_info": {
   "codemirror_mode": {
    "name": "ipython",
    "version": 3
   },
   "file_extension": ".py",
   "mimetype": "text/x-python",
   "name": "python",
   "nbconvert_exporter": "python",
   "pygments_lexer": "ipython3",
   "version": "3.11.1"
  }
 },
 "nbformat": 4,
 "nbformat_minor": 5
}
